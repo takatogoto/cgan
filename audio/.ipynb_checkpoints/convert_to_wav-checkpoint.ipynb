{
 "cells": [
  {
   "cell_type": "markdown",
   "metadata": {},
   "source": [
    "conda install -c menpo ffmpeg  \n",
    "conda install -c conda-forge pydub "
   ]
  },
  {
   "cell_type": "code",
   "execution_count": 5,
   "metadata": {},
   "outputs": [
    {
     "data": {
      "text/plain": [
       "<_io.BufferedRandom name='test.wav'>"
      ]
     },
     "execution_count": 5,
     "metadata": {},
     "output_type": "execute_result"
    }
   ],
   "source": [
    "from os import path\n",
    "from pydub import AudioSegment\n",
    "from pydub.utils import mediainfo\n",
    "\n",
    "\n",
    "\n",
    "# files                                                                         \n",
    "src = \"data/2Mm9FCqnjH9k6JfOvr3Hg7.mp3\"\n",
    "dst = \"test.wav\"\n",
    "\n",
    "# convert wav to mp3\n",
    "original_bitrate = mediainfo(src)['bit_rate']\n",
    "sound = AudioSegment.from_mp3(src)\n",
    "sound.export(dst, format=\"wav\", bitrate=original_bitrate)"
   ]
  },
  {
   "cell_type": "code",
   "execution_count": null,
   "metadata": {},
   "outputs": [],
   "source": []
  }
 ],
 "metadata": {
  "kernelspec": {
   "display_name": "Python 3",
   "language": "python",
   "name": "python3"
  },
  "language_info": {
   "codemirror_mode": {
    "name": "ipython",
    "version": 3
   },
   "file_extension": ".py",
   "mimetype": "text/x-python",
   "name": "python",
   "nbconvert_exporter": "python",
   "pygments_lexer": "ipython3",
   "version": "3.7.3"
  }
 },
 "nbformat": 4,
 "nbformat_minor": 2
}
