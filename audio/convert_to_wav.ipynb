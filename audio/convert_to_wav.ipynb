{
 "cells": [
  {
   "cell_type": "markdown",
   "metadata": {},
   "source": [
    "conda install -c menpo ffmpeg  \n",
    "conda install -c conda-forge pydub "
   ]
  },
  {
   "cell_type": "code",
   "execution_count": 1,
   "metadata": {},
   "outputs": [],
   "source": [
    "#from os import path\n",
    "from pydub import AudioSegment\n",
    "from pydub.utils import mediainfo\n",
    "\n",
    "\n",
    "\n",
    "# files                                                                         \n",
    "src = \"data/2Mm9FCqnjH9k6JfOvr3Hg7.mp3\"\n",
    "dst = \"test.wav\"\n",
    "\n",
    "# convert wav to mp3\n",
    "original_bitrate = mediainfo(src)['bit_rate']\n",
    "sound = AudioSegment.from_mp3(src)\n",
    "out_f = sound.export(dst, format=\"wav\", bitrate=original_bitrate)\n",
    "out_f.close()"
   ]
  },
  {
   "cell_type": "code",
   "execution_count": 3,
   "metadata": {},
   "outputs": [
    {
     "name": "stdout",
     "output_type": "stream",
     "text": [
      "mp3\n",
      "mp3\n"
     ]
    }
   ],
   "source": [
    "import os\n",
    "path = \"data\"\n",
    "\n",
    "files = os.listdir(path)\n",
    "for fl in files:\n",
    "    print(fl[-3:])"
   ]
  },
  {
   "cell_type": "code",
   "execution_count": 1,
   "metadata": {},
   "outputs": [],
   "source": [
    "import os\n",
    "from pydub import AudioSegment\n",
    "from pydub.utils import mediainfo\n",
    "\n",
    "def mp32wav(mppath, wavpath):\n",
    "    datadir = os.listdir(mppath)\n",
    "    for file in datadir:\n",
    "        if file[-3:] == 'mp3':\n",
    "            tempath = os.path.join(mppath,file)\n",
    "            original_bitrate = mediainfo(tempath)['bit_rate']\n",
    "            sound = AudioSegment.from_mp3(tempath)\n",
    "            out_f = sound.export(os.path.join(wavpath, file[:-3]+'wav') , format=\"wav\", bitrate=original_bitrate)\n",
    "            out_f.close()"
   ]
  },
  {
   "cell_type": "code",
   "execution_count": 2,
   "metadata": {},
   "outputs": [],
   "source": [
    "mp32wav('mp3', 'wav')"
   ]
  },
  {
   "cell_type": "code",
   "execution_count": null,
   "metadata": {},
   "outputs": [],
   "source": []
  }
 ],
 "metadata": {
  "kernelspec": {
   "display_name": "Python 3",
   "language": "python",
   "name": "python3"
  },
  "language_info": {
   "codemirror_mode": {
    "name": "ipython",
    "version": 3
   },
   "file_extension": ".py",
   "mimetype": "text/x-python",
   "name": "python",
   "nbconvert_exporter": "python",
   "pygments_lexer": "ipython3",
   "version": "3.7.3"
  }
 },
 "nbformat": 4,
 "nbformat_minor": 2
}
